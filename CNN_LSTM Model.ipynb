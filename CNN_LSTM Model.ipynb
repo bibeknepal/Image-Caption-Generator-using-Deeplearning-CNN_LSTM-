{
 "cells": [
  {
   "cell_type": "markdown",
   "id": "496b5ab4",
   "metadata": {},
   "source": [
    "# Import Modules"
   ]
  },
  {
   "cell_type": "code",
   "execution_count": 1,
   "id": "f23e89e7",
   "metadata": {},
   "outputs": [],
   "source": [
    "import string\n",
    "import numpy as np\n",
    "from PIL import Image\n",
    "import os\n",
    "from pickle import dump, load\n",
    "from keras.applications.xception import Xception, preprocess_input\n",
    "from tensorflow.keras.preprocessing.image import load_img, img_to_array\n",
    "from tensorflow.keras.preprocessing.text import Tokenizer\n",
    "from tensorflow.keras.preprocessing.sequence import pad_sequences\n",
    "from tensorflow.keras.utils import to_categorical, plot_model\n",
    "from keras.layers.merge import add\n",
    "from keras.models import Model, load_model\n",
    "from tensorflow.keras.layers import Input, Dense, LSTM, Embedding, Dropout, add\n",
    "# small library for seeing the progress of loops.\n",
    "from tqdm.notebook import tqdm\n",
    "tqdm.pandas()\n",
    "import matplotlib.pyplot as plt\n",
    "%matplotlib inline"
   ]
  },
  {
   "cell_type": "markdown",
   "id": "2b67a5c3",
   "metadata": {},
   "source": [
    "# Path Directory"
   ]
  },
  {
   "cell_type": "code",
   "execution_count": 7,
   "id": "9a3e0996",
   "metadata": {},
   "outputs": [],
   "source": [
    "dataset_text = \"data\\\\text\"\n",
    "dataset_images = \"data\\\\Images\"\n",
    "save_data = \"data\\\\output\""
   ]
  },
  {
   "cell_type": "markdown",
   "id": "5a471c46",
   "metadata": {},
   "source": [
    "# Performing data cleaning"
   ]
  },
  {
   "cell_type": "code",
   "execution_count": 3,
   "id": "01ed0375",
   "metadata": {},
   "outputs": [],
   "source": [
    "# Loading a text file into memory\n",
    "def load_doc(filename):\n",
    "    # Opening the file as read only\n",
    "    file = open(filename, 'r')\n",
    "    text = file.read()\n",
    "    file.close()\n",
    "    return text\n",
    "\n",
    "# get all imgs with their captions\n",
    "def all_img_captions(filename):\n",
    "    file = load_doc(filename)\n",
    "    descriptions = {}\n",
    "    for line in file.split('\\n'):\n",
    "        tokens = line.split()\n",
    "        if len(line) > 2:\n",
    "            image_id = tokens[0].split(',')[0]\n",
    "            image_desc = ' '.join(tokens[1:])\n",
    "        if image_id not in descriptions:\n",
    "              descriptions[image_id] = []\n",
    "        descriptions[image_id].append(image_desc)\n",
    "    return descriptions\n",
    "\n",
    "#Data cleaning- lower casing, removing puntuations and words containing numbers\n",
    "def cleaning_text(captions):\n",
    "    table = str.maketrans('','',string.punctuation)\n",
    "    for img,caps in captions.items():\n",
    "        for i,img_caption in enumerate(caps):\n",
    "            img_caption.replace(\"-\",\" \")\n",
    "            desc = img_caption.split()\n",
    "            #converts to lowercase\n",
    "            desc = [word.lower() for word in desc]\n",
    "            #remove punctuation from each token\n",
    "            desc = [word.translate(table) for word in desc]\n",
    "            #remove hanging 's and a \n",
    "            desc = [word for word in desc if(len(word)>1)]\n",
    "            #remove tokens with numbers in them\n",
    "            desc = [word for word in desc if(word.isalpha())]\n",
    "            #convert back to string\n",
    "            img_caption = ' '.join(desc)\n",
    "            captions[img][i]= img_caption\n",
    "    return captions\n",
    "\n",
    "def text_vocabulary(descriptions):\n",
    "    # build vocabulary of all unique words\n",
    "    vocab = set()\n",
    "    for key in descriptions.keys():\n",
    "        [vocab.update(d.split()) for d in descriptions[key]]\n",
    "    #sort vocabulary\n",
    "    vocab=list(vocab)\n",
    "    vocab.sort()\n",
    "    return vocab\n",
    "\n",
    "#All descriptions in one file \n",
    "def save_descriptions(descriptions, filename):\n",
    "    lines = list()\n",
    "    for key, desc_list in descriptions.items():\n",
    "        for desc in desc_list:\n",
    "            lines.append(key + '\\t' + desc )\n",
    "    data = \"\\n\".join(lines)\n",
    "    file = open(filename,\"w\")\n",
    "    file.write(data)\n",
    "    file.close()"
   ]
  },
  {
   "cell_type": "code",
   "execution_count": 4,
   "id": "2cb723d2",
   "metadata": {},
   "outputs": [
    {
     "name": "stdout",
     "output_type": "stream",
     "text": [
      "Length of descriptions = 8101\n"
     ]
    }
   ],
   "source": [
    "#we prepare our text data\n",
    "filename = dataset_text + \"\\\\\" + \"captions.txt\"\n",
    "#loading the file that contains all data\n",
    "#mapping them into descriptions dictionary img to 5 captions\n",
    "descriptions = all_img_captions(filename)\n",
    "print(\"Length of descriptions =\" ,len(descriptions))\n",
    "#print(descriptions)"
   ]
  },
  {
   "cell_type": "markdown",
   "id": "aa452cb1",
   "metadata": {},
   "source": [
    "# Split the data into training and testing"
   ]
  },
  {
   "cell_type": "code",
   "execution_count": 5,
   "id": "05cfdcdd",
   "metadata": {},
   "outputs": [
    {
     "name": "stdout",
     "output_type": "stream",
     "text": [
      "Length of Train descriptions = 6480\n",
      "Length of Test descriptions = 1621\n"
     ]
    }
   ],
   "source": [
    "#Split data into Train(80%) and Test(20%)\n",
    "l = len(descriptions)*0.8\n",
    "train = dict(list(descriptions.items())[0: int(l)])\n",
    "test = dict(list(descriptions.items())[int(l):])\n",
    "print(\"Length of Train descriptions =\" ,len(train.keys()))\n",
    "print(\"Length of Test descriptions =\" ,len(test.keys()))"
   ]
  },
  {
   "cell_type": "code",
   "execution_count": 8,
   "id": "5cee3816",
   "metadata": {},
   "outputs": [],
   "source": [
    "#saving each description to file before cleaning \n",
    "save_descriptions(descriptions,(os.path.join(save_data, \"descriptions.txt\")))\n",
    "save_descriptions(test,(os.path.join(save_data,\"test_descriptions.txt\")))"
   ]
  },
  {
   "cell_type": "code",
   "execution_count": 9,
   "id": "00c2672e",
   "metadata": {},
   "outputs": [],
   "source": [
    "#cleaning the descriptions\n",
    "all_clean_descriptions = cleaning_text(descriptions)\n",
    "clean_train_descriptions = cleaning_text(train)"
   ]
  },
  {
   "cell_type": "code",
   "execution_count": 10,
   "id": "ce17e528",
   "metadata": {},
   "outputs": [
    {
     "name": "stdout",
     "output_type": "stream",
     "text": [
      "Length of vocabulary =  7911\n"
     ]
    }
   ],
   "source": [
    "#building vocabulary \n",
    "vocabulary = text_vocabulary(clean_train_descriptions)\n",
    "print(\"Length of vocabulary = \", len(vocabulary))"
   ]
  },
  {
   "cell_type": "code",
   "execution_count": 11,
   "id": "b7a848b9",
   "metadata": {},
   "outputs": [],
   "source": [
    "#saving each description to file before cleaning \n",
    "save_descriptions(clean_train_descriptions,(os.path.join(save_data,\"train_descriptions.txt\")))"
   ]
  },
  {
   "cell_type": "markdown",
   "id": "081488c8",
   "metadata": {},
   "source": [
    "# Visualize"
   ]
  },
  {
   "cell_type": "code",
   "execution_count": 16,
   "id": "be06ae01",
   "metadata": {},
   "outputs": [
    {
     "data": {
      "image/png": "[encoded data removed]",
      "text/plain": [
       "<Figure size 432x288 with 1 Axes>"
      ]
     },
     "metadata": {
      "needs_background": "light"
     },
     "output_type": "display_data"
    },
    {
     "data": {
      "text/plain": [
       "['boy walking towards the aeroplane',\n",
       " 'aeroplane ready for the takeoff',\n",
       " 'boy carrying bag walking towards aeroplane',\n",
       " 'aeroplane is parked in the airport',\n",
       " 'clear blue sky seen from the airport']"
      ]
     },
     "execution_count": 16,
     "metadata": {},
     "output_type": "execute_result"
    }
   ],
   "source": [
    "#Let’s visualize an example image and its captions\n",
    "pic = '\\\\Bibek2.jpg'\n",
    "x=plt.imread(dataset_images+pic)\n",
    "plt.imshow(x)\n",
    "plt.show()\n",
    "descriptions['Bibek2.jpg']"
   ]
  },
  {
   "cell_type": "markdown",
   "id": "7547c430",
   "metadata": {},
   "source": [
    "# Extract Image Features"
   ]
  },
  {
   "cell_type": "code",
   "execution_count": 26,
   "id": "35bb50d0",
   "metadata": {},
   "outputs": [],
   "source": [
    "# #Extracting the feature vector from all images \n",
    "# def extract_features(directory):\n",
    "#         model = Xception( include_top=False, pooling='avg' )\n",
    "#         features = {}\n",
    "#         for img in tqdm(os.listdir(directory)):\n",
    "#             filename = directory + \"/\" + img\n",
    "#             image = Image.open(filename)\n",
    "#             image = image.resize((299,299))\n",
    "#             image = np.expand_dims(image, axis=0)\n",
    "#             image = image/255\n",
    "#             feature = model.predict(image)\n",
    "#             features[img] = feature\n",
    "#         return features\n",
    "# #2048 feature vector\n",
    "# features = extract_features(dataset_images)\n",
    "# #store features\n",
    "# dump(features, open(os.path.join(save_data,\"features.p\"), \"wb\"))"
   ]
  },
  {
   "cell_type": "code",
   "execution_count": 28,
   "id": "d62f8445",
   "metadata": {},
   "outputs": [],
   "source": [
    "#load features\n",
    "features = load(open(os.path.join(save_data,\"features.p\"),\"rb\"))"
   ]
  },
  {
   "cell_type": "markdown",
   "id": "d83eafa2",
   "metadata": {},
   "source": [
    "# Loading dataset for Training the model"
   ]
  },
  {
   "cell_type": "code",
   "execution_count": 29,
   "id": "3fbf502a",
   "metadata": {},
   "outputs": [],
   "source": [
    "def load_photos(filename):\n",
    "    file = load_doc(filename)\n",
    "    photos = file.split('\\n')[:-1]\n",
    "    return photos\n",
    "def load_clean_descriptions(filename, photos): \n",
    "    #loading clean_descriptions\n",
    "    file = load_doc(filename)\n",
    "    descriptions = {}\n",
    "    for line in file.split('\\n'):\n",
    "        words = line.split()\n",
    "        if len(words)<1 :\n",
    "            continue\n",
    "        image, image_caption = words[0], words[1:]\n",
    "        if image in photos:\n",
    "            if image not in descriptions:\n",
    "                descriptions[image] = []\n",
    "            desc = '<start> ' + \" \".join(image_caption) + ' <end>'\n",
    "            descriptions[image].append(desc)\n",
    "    return descriptions\n",
    "def load_features(photos):\n",
    "    #loading all features\n",
    "    all_features = load(open(os.path.join(save_data,\"features.p\"),\"rb\"))\n",
    "    #selecting only needed features\n",
    "    features = {k:all_features[k] for k in photos}\n",
    "    return features"
   ]
  },
  {
   "cell_type": "code",
   "execution_count": 30,
   "id": "90e0b0ea",
   "metadata": {},
   "outputs": [],
   "source": [
    "filename = dataset_text + \"\\\\\" + \"train_imgs.txt\"\n",
    "train_imgs = load_photos(filename)\n",
    "train_descriptions = load_clean_descriptions((os.path.join(save_data,\"train_descriptions.txt\")), train_imgs)\n",
    "train_features = load_features(train_imgs)"
   ]
  },
  {
   "cell_type": "markdown",
   "id": "65c10471",
   "metadata": {},
   "source": [
    "# Tokenizing the vocabulary"
   ]
  },
  {
   "cell_type": "code",
   "execution_count": 31,
   "id": "2722eb43",
   "metadata": {},
   "outputs": [
    {
     "data": {
      "text/plain": [
       "7909"
      ]
     },
     "execution_count": 31,
     "metadata": {},
     "output_type": "execute_result"
    }
   ],
   "source": [
    "#converting dictionary to clean list of descriptions\n",
    "def dict_to_list(train):\n",
    "    all_desc = []\n",
    "    for key in train.keys():\n",
    "        [all_desc.append(d) for d in train[key]]\n",
    "    return all_desc\n",
    "#creating tokenizer class \n",
    "#this will vectorise text corpus\n",
    "#each integer will represent token in dictionary\n",
    "from keras.preprocessing.text import Tokenizer\n",
    "def create_tokenizer(train):\n",
    "    desc_list = dict_to_list(train)\n",
    "    tokenizer = Tokenizer()\n",
    "    tokenizer.fit_on_texts(desc_list)\n",
    "    return tokenizer\n",
    "# give each word an index, and store that into tokenizer.p pickle file\n",
    "tokenizer = create_tokenizer(train_descriptions)\n",
    "dump(tokenizer, open(os.path.join(save_data,\"tokenizer.p\"),\"wb\"))\n",
    "vocab_size = len(tokenizer.word_index)\n",
    "vocab_size"
   ]
  },
  {
   "cell_type": "code",
   "execution_count": 32,
   "id": "a06be5ff",
   "metadata": {},
   "outputs": [
    {
     "data": {
      "text/plain": [
       "31"
      ]
     },
     "execution_count": 32,
     "metadata": {},
     "output_type": "execute_result"
    }
   ],
   "source": [
    "# calculate maximum length of descriptions\n",
    "def max_length(train):\n",
    "    desc_list = dict_to_list(train)\n",
    "    return max(len(d.split()) for d in desc_list)\n",
    "    \n",
    "max_length = max_length(train)\n",
    "max_length"
   ]
  },
  {
   "cell_type": "markdown",
   "id": "03f2515a",
   "metadata": {},
   "source": [
    "# Create Data generator"
   ]
  },
  {
   "cell_type": "code",
   "execution_count": 33,
   "id": "db2bfd16",
   "metadata": {},
   "outputs": [
    {
     "data": {
      "text/plain": [
       "((33, 2048), (33, 31), (33, 7909))"
      ]
     },
     "execution_count": 33,
     "metadata": {},
     "output_type": "execute_result"
    }
   ],
   "source": [
    "#create input-output sequence pairs from the image description.\n",
    "#data generator, used by model.fit_generator()\n",
    "def data_generator(train, features, tokenizer, max_length):\n",
    "    while 1:\n",
    "        for key, train_list in train.items():\n",
    "            #retrieve photo features\n",
    "            feature = features[key][0]\n",
    "            input_image, input_sequence, output_word = create_sequences(tokenizer, max_length, train_list, feature)\n",
    "        \n",
    "            yield [[input_image, input_sequence], output_word]\n",
    "def create_sequences(tokenizer, max_length, desc_list, feature):\n",
    "    X1, X2, y = list(), list(), list()\n",
    "    # walk through each description for the image\n",
    "    for desc in desc_list:\n",
    "        # encode the sequence\n",
    "        seq = tokenizer.texts_to_sequences([desc])[0]\n",
    "        # split one sequence into multiple X,y pairs\n",
    "        for i in range(1, len(seq)):\n",
    "            # split into input and output pair\n",
    "            in_seq, out_seq = seq[:i], seq[i]\n",
    "            # pad input sequence\n",
    "            in_seq = pad_sequences([in_seq], maxlen=max_length)[0]\n",
    "            # encode output sequence\n",
    "            out_seq = to_categorical([out_seq], num_classes=vocab_size)[0]\n",
    "            # store\n",
    "            X1.append(feature)\n",
    "            X2.append(in_seq)\n",
    "            y.append(out_seq)\n",
    "    return np.array(X1), np.array(X2), np.array(y)\n",
    "#You can check the shape of the input and output for your model\n",
    "[a,b],c = next(data_generator(train_descriptions, features, tokenizer, max_length))\n",
    "a.shape, b.shape, c.shape"
   ]
  },
  {
   "cell_type": "markdown",
   "id": "f073a40f",
   "metadata": {},
   "source": [
    "# Create Model"
   ]
  },
  {
   "cell_type": "code",
   "execution_count": 34,
   "id": "4b7950a6",
   "metadata": {},
   "outputs": [],
   "source": [
    "from tensorflow.keras.utils import plot_model\n",
    "# define the captioning model\n",
    "def define_model(vocab_size, max_length):\n",
    "    # features from the CNN model squeezed from 2048 to 256 nodes\n",
    "    inputs1 = Input(shape=(2048,))\n",
    "    fe1 = Dropout(0.4)(inputs1)\n",
    "    fe2 = Dense(256, activation='relu')(fe1)\n",
    "    # LSTM sequence model\n",
    "    inputs2 = Input(shape=(max_length,))\n",
    "    se1 = Embedding(vocab_size, 256, mask_zero=True)(inputs2)\n",
    "    se2 = Dropout(0.4)(se1)\n",
    "    se3 = LSTM(256)(se2)\n",
    "    # Merging both models\n",
    "    decoder1 = add([fe2, se3])\n",
    "    decoder2 = Dense(256, activation='relu')(decoder1)\n",
    "    outputs = Dense(vocab_size, activation='softmax')(decoder2)\n",
    "    # tie it together [image, seq] [word]\n",
    "    model = Model(inputs=[inputs1, inputs2], outputs=outputs)\n",
    "    model.compile(loss='categorical_crossentropy', optimizer='adam', metrics = ['accuracy'])\n",
    "    # summarize model\n",
    "    print(model.summary())\n",
    "    return model"
   ]
  },
  {
   "cell_type": "code",
   "execution_count": 35,
   "id": "207fcf05",
   "metadata": {},
   "outputs": [
    {
     "name": "stdout",
     "output_type": "stream",
     "text": [
      "Model: \"model\"\n",
      "__________________________________________________________________________________________________\n",
      " Layer (type)                   Output Shape         Param #     Connected to                     \n",
      "==================================================================================================\n",
      " input_3 (InputLayer)           [(None, 31)]         0           []                               \n",
      "                                                                                                  \n",
      " input_2 (InputLayer)           [(None, 2048)]       0           []                               \n",
      "                                                                                                  \n",
      " embedding (Embedding)          (None, 31, 256)      2024704     ['input_3[0][0]']                \n",
      "                                                                                                  \n",
      " dropout (Dropout)              (None, 2048)         0           ['input_2[0][0]']                \n",
      "                                                                                                  \n",
      " dropout_1 (Dropout)            (None, 31, 256)      0           ['embedding[0][0]']              \n",
      "                                                                                                  \n",
      " dense (Dense)                  (None, 256)          524544      ['dropout[0][0]']                \n",
      "                                                                                                  \n",
      " lstm (LSTM)                    (None, 256)          525312      ['dropout_1[0][0]']              \n",
      "                                                                                                  \n",
      " add_12 (Add)                   (None, 256)          0           ['dense[0][0]',                  \n",
      "                                                                  'lstm[0][0]']                   \n",
      "                                                                                                  \n",
      " dense_1 (Dense)                (None, 256)          65792       ['add_12[0][0]']                 \n",
      "                                                                                                  \n",
      " dense_2 (Dense)                (None, 7909)         2032613     ['dense_1[0][0]']                \n",
      "                                                                                                  \n",
      "==================================================================================================\n",
      "Total params: 5,172,965\n",
      "Trainable params: 5,172,965\n",
      "Non-trainable params: 0\n",
      "__________________________________________________________________________________________________\n",
      "None\n",
      "You must install pydot (`pip install pydot`) and install graphviz (see instructions at https://graphviz.gitlab.io/download/) for plot_model/model_to_dot to work.\n"
     ]
    }
   ],
   "source": [
    "model = define_model(vocab_size, max_length)\n",
    "plot_model(model,to_file=(os.path.join(save_data,\"model.png\")), show_shapes=True)"
   ]
  },
  {
   "cell_type": "code",
   "execution_count": 36,
   "id": "179f7c01",
   "metadata": {},
   "outputs": [
    {
     "name": "stdout",
     "output_type": "stream",
     "text": [
      "Dataset:  8101\n",
      "Descriptions: train= 6479\n",
      "Photos: train= 6479\n",
      "Vocabulary Size: 7909\n",
      "Description Length:  31\n"
     ]
    }
   ],
   "source": [
    "print('Dataset: ', len(descriptions))\n",
    "print('Descriptions: train=', len(train_descriptions))\n",
    "print('Photos: train=', len(train_features))\n",
    "print('Vocabulary Size:', vocab_size)\n",
    "print('Description Length: ', max_length)"
   ]
  },
  {
   "cell_type": "markdown",
   "id": "aa337aa9",
   "metadata": {},
   "source": [
    "# Train Model"
   ]
  },
  {
   "cell_type": "code",
   "execution_count": 65,
   "id": "74e7aba9",
   "metadata": {},
   "outputs": [
    {
     "name": "stdout",
     "output_type": "stream",
     "text": [
      "Model: \"model_8\"\n",
      "__________________________________________________________________________________________________\n",
      " Layer (type)                   Output Shape         Param #     Connected to                     \n",
      "==================================================================================================\n",
      " input_21 (InputLayer)          [(None, 31)]         0           []                               \n",
      "                                                                                                  \n",
      " input_20 (InputLayer)          [(None, 2048)]       0           []                               \n",
      "                                                                                                  \n",
      " embedding_8 (Embedding)        (None, 31, 256)      2024704     ['input_21[0][0]']               \n",
      "                                                                                                  \n",
      " dropout_16 (Dropout)           (None, 2048)         0           ['input_20[0][0]']               \n",
      "                                                                                                  \n",
      " dropout_17 (Dropout)           (None, 31, 256)      0           ['embedding_8[0][0]']            \n",
      "                                                                                                  \n",
      " dense_24 (Dense)               (None, 256)          524544      ['dropout_16[0][0]']             \n",
      "                                                                                                  \n",
      " lstm_8 (LSTM)                  (None, 256)          525312      ['dropout_17[0][0]']             \n",
      "                                                                                                  \n",
      " add_44 (Add)                   (None, 256)          0           ['dense_24[0][0]',               \n",
      "                                                                  'lstm_8[0][0]']                 \n",
      "                                                                                                  \n",
      " dense_25 (Dense)               (None, 256)          65792       ['add_44[0][0]']                 \n",
      "                                                                                                  \n",
      " dense_26 (Dense)               (None, 7909)         2032613     ['dense_25[0][0]']               \n",
      "                                                                                                  \n",
      "==================================================================================================\n",
      "Total params: 5,172,965\n",
      "Trainable params: 5,172,965\n",
      "Non-trainable params: 0\n",
      "__________________________________________________________________________________________________\n",
      "None\n",
      "Epochs 1/101\n",
      "101/101 [==============================] - 24s 209ms/step - loss: 6.7394 - accuracy: 0.0825\n",
      "Epochs 2/101\n",
      "101/101 [==============================] - 23s 225ms/step - loss: 5.5080 - accuracy: 0.1038\n",
      "Epochs 3/101\n",
      "101/101 [==============================] - 21s 207ms/step - loss: 5.1369 - accuracy: 0.1276\n",
      "Epochs 4/101\n",
      "101/101 [==============================] - 21s 205ms/step - loss: 4.7619 - accuracy: 0.1459\n",
      "Epochs 5/101\n",
      "101/101 [==============================] - 22s 220ms/step - loss: 4.4838 - accuracy: 0.1652\n",
      "Epochs 6/101\n",
      "101/101 [==============================] - 21s 212ms/step - loss: 4.2047 - accuracy: 0.1989\n",
      "Epochs 7/101\n",
      "101/101 [==============================] - 21s 211ms/step - loss: 3.9281 - accuracy: 0.2131\n",
      "Epochs 8/101\n",
      "101/101 [==============================] - 23s 228ms/step - loss: 3.7108 - accuracy: 0.2306\n",
      "Epochs 9/101\n",
      "101/101 [==============================] - 23s 224ms/step - loss: 3.5041 - accuracy: 0.2395\n",
      "Epochs 10/101\n",
      "101/101 [==============================] - 22s 214ms/step - loss: 3.3045 - accuracy: 0.2584\n",
      "Epochs 11/101\n",
      "101/101 [==============================] - 22s 216ms/step - loss: 3.1374 - accuracy: 0.2881\n",
      "Epochs 12/101\n",
      "101/101 [==============================] - 22s 217ms/step - loss: 2.9024 - accuracy: 0.3186\n",
      "Epochs 13/101\n",
      "101/101 [==============================] - 22s 217ms/step - loss: 2.6581 - accuracy: 0.3466\n",
      "Epochs 14/101\n",
      "101/101 [==============================] - 21s 213ms/step - loss: 2.3634 - accuracy: 0.3941\n",
      "Epochs 15/101\n",
      "101/101 [==============================] - 23s 226ms/step - loss: 2.1118 - accuracy: 0.4425\n",
      "Epochs 16/101\n",
      "101/101 [==============================] - 21s 212ms/step - loss: 1.8662 - accuracy: 0.4878\n",
      "Epochs 17/101\n",
      "101/101 [==============================] - 22s 214ms/step - loss: 1.6532 - accuracy: 0.5297\n",
      "Epochs 18/101\n",
      "101/101 [==============================] - 22s 214ms/step - loss: 1.4701 - accuracy: 0.5796\n",
      "Epochs 19/101\n",
      "101/101 [==============================] - 22s 218ms/step - loss: 1.3266 - accuracy: 0.6006\n",
      "Epochs 20/101\n",
      "101/101 [==============================] - 22s 220ms/step - loss: 1.1734 - accuracy: 0.6369\n",
      "Epochs 21/101\n",
      "101/101 [==============================] - 22s 214ms/step - loss: 1.0450 - accuracy: 0.6686\n",
      "Epochs 22/101\n",
      "101/101 [==============================] - 21s 212ms/step - loss: 0.9436 - accuracy: 0.6961\n",
      "Epochs 23/101\n",
      "101/101 [==============================] - 22s 219ms/step - loss: 0.8195 - accuracy: 0.7355\n",
      "Epochs 24/101\n",
      "101/101 [==============================] - 21s 212ms/step - loss: 0.7606 - accuracy: 0.7560\n",
      "Epochs 25/101\n",
      "101/101 [==============================] - 23s 224ms/step - loss: 0.6691 - accuracy: 0.7816\n",
      "Epochs 26/101\n",
      "101/101 [==============================] - 21s 208ms/step - loss: 0.5809 - accuracy: 0.8100\n",
      "Epochs 27/101\n",
      "101/101 [==============================] - 21s 210ms/step - loss: 0.5189 - accuracy: 0.8356\n",
      "Epochs 28/101\n",
      "101/101 [==============================] - 22s 222ms/step - loss: 0.4723 - accuracy: 0.8511\n",
      "Epochs 29/101\n",
      "101/101 [==============================] - 22s 216ms/step - loss: 0.4452 - accuracy: 0.8541\n",
      "Epochs 30/101\n",
      "101/101 [==============================] - 22s 216ms/step - loss: 0.4367 - accuracy: 0.8568\n",
      "Epochs 31/101\n",
      "101/101 [==============================] - 21s 212ms/step - loss: 0.4102 - accuracy: 0.8625\n",
      "Epochs 32/101\n",
      "101/101 [==============================] - 22s 213ms/step - loss: 0.3744 - accuracy: 0.8773\n",
      "Epochs 33/101\n",
      "101/101 [==============================] - 21s 210ms/step - loss: 0.3612 - accuracy: 0.8779\n",
      "Epochs 34/101\n",
      "101/101 [==============================] - 22s 214ms/step - loss: 0.3437 - accuracy: 0.8807\n",
      "Epochs 35/101\n",
      "101/101 [==============================] - 22s 216ms/step - loss: 0.3201 - accuracy: 0.8915\n",
      "Epochs 36/101\n",
      "101/101 [==============================] - 21s 213ms/step - loss: 0.3164 - accuracy: 0.8893\n",
      "Epochs 37/101\n",
      "101/101 [==============================] - 22s 220ms/step - loss: 0.3151 - accuracy: 0.8866\n",
      "Epochs 38/101\n",
      "101/101 [==============================] - 22s 217ms/step - loss: 0.2908 - accuracy: 0.8946\n",
      "Epochs 39/101\n",
      "101/101 [==============================] - 22s 214ms/step - loss: 0.2879 - accuracy: 0.8923\n",
      "Epochs 40/101\n",
      "101/101 [==============================] - 23s 223ms/step - loss: 0.2911 - accuracy: 0.8952\n",
      "Epochs 41/101\n",
      "101/101 [==============================] - 22s 218ms/step - loss: 0.2910 - accuracy: 0.8972\n",
      "Epochs 42/101\n",
      "101/101 [==============================] - 22s 219ms/step - loss: 0.2850 - accuracy: 0.8939\n",
      "Epochs 43/101\n",
      "101/101 [==============================] - 22s 217ms/step - loss: 0.2643 - accuracy: 0.9013\n",
      "Epochs 44/101\n",
      "101/101 [==============================] - 23s 229ms/step - loss: 0.2581 - accuracy: 0.9021\n",
      "Epochs 45/101\n",
      "101/101 [==============================] - 26s 258ms/step - loss: 0.2518 - accuracy: 0.9051\n",
      "Epochs 46/101\n",
      "101/101 [==============================] - 27s 266ms/step - loss: 0.2524 - accuracy: 0.9023\n",
      "Epochs 47/101\n",
      "101/101 [==============================] - 26s 261ms/step - loss: 0.2554 - accuracy: 0.9027\n",
      "Epochs 48/101\n",
      "101/101 [==============================] - 27s 269ms/step - loss: 0.2515 - accuracy: 0.9000\n",
      "Epochs 49/101\n",
      "101/101 [==============================] - 26s 255ms/step - loss: 0.2649 - accuracy: 0.9025\n",
      "Epochs 50/101\n",
      "101/101 [==============================] - 26s 254ms/step - loss: 0.2623 - accuracy: 0.8996\n",
      "Epochs 51/101\n",
      "101/101 [==============================] - 26s 255ms/step - loss: 0.2500 - accuracy: 0.9033\n",
      "Epochs 52/101\n",
      "101/101 [==============================] - 26s 259ms/step - loss: 0.2485 - accuracy: 0.9029\n",
      "Epochs 53/101\n"
     ]
    },
    {
     "name": "stdout",
     "output_type": "stream",
     "text": [
      "101/101 [==============================] - 25s 248ms/step - loss: 0.2493 - accuracy: 0.9033\n",
      "Epochs 54/101\n",
      "101/101 [==============================] - 26s 255ms/step - loss: 0.2472 - accuracy: 0.9002\n",
      "Epochs 55/101\n",
      "101/101 [==============================] - 26s 262ms/step - loss: 0.2585 - accuracy: 0.9033\n",
      "Epochs 56/101\n",
      "101/101 [==============================] - 26s 256ms/step - loss: 0.2599 - accuracy: 0.8992\n",
      "Epochs 57/101\n",
      "101/101 [==============================] - 24s 242ms/step - loss: 0.2730 - accuracy: 0.8941\n",
      "Epochs 58/101\n",
      "101/101 [==============================] - 25s 244ms/step - loss: 0.3090 - accuracy: 0.8858\n",
      "Epochs 59/101\n",
      "101/101 [==============================] - 24s 241ms/step - loss: 0.3404 - accuracy: 0.8716\n",
      "Epochs 60/101\n",
      "101/101 [==============================] - 24s 241ms/step - loss: 0.3250 - accuracy: 0.8793\n",
      "Epochs 61/101\n",
      "101/101 [==============================] - 25s 245ms/step - loss: 0.2873 - accuracy: 0.8872\n",
      "Epochs 62/101\n",
      "101/101 [==============================] - 25s 247ms/step - loss: 0.2592 - accuracy: 0.8954\n",
      "Epochs 63/101\n",
      "101/101 [==============================] - 25s 245ms/step - loss: 0.2401 - accuracy: 0.9021\n",
      "Epochs 64/101\n",
      "101/101 [==============================] - 24s 241ms/step - loss: 0.2305 - accuracy: 0.9055\n",
      "Epochs 65/101\n",
      "101/101 [==============================] - 25s 246ms/step - loss: 0.2287 - accuracy: 0.9065\n",
      "Epochs 66/101\n",
      "101/101 [==============================] - 25s 246ms/step - loss: 0.2174 - accuracy: 0.9078\n",
      "Epochs 67/101\n",
      "101/101 [==============================] - 25s 244ms/step - loss: 0.2229 - accuracy: 0.9063\n",
      "Epochs 68/101\n",
      "101/101 [==============================] - 25s 245ms/step - loss: 0.2225 - accuracy: 0.9078\n",
      "Epochs 69/101\n",
      "101/101 [==============================] - 24s 242ms/step - loss: 0.2200 - accuracy: 0.9037\n",
      "Epochs 70/101\n",
      "101/101 [==============================] - 25s 247ms/step - loss: 0.2153 - accuracy: 0.9092\n",
      "Epochs 71/101\n",
      "101/101 [==============================] - 25s 249ms/step - loss: 0.2148 - accuracy: 0.9086\n",
      "Epochs 72/101\n",
      "101/101 [==============================] - 26s 255ms/step - loss: 0.2115 - accuracy: 0.9084\n",
      "Epochs 73/101\n",
      "101/101 [==============================] - 26s 258ms/step - loss: 0.2167 - accuracy: 0.9086\n",
      "Epochs 74/101\n",
      "101/101 [==============================] - 27s 264ms/step - loss: 0.2171 - accuracy: 0.9063\n",
      "Epochs 75/101\n",
      "101/101 [==============================] - 28s 275ms/step - loss: 0.2142 - accuracy: 0.9041\n",
      "Epochs 76/101\n",
      "101/101 [==============================] - 25s 244ms/step - loss: 0.2173 - accuracy: 0.9063\n",
      "Epochs 77/101\n",
      "101/101 [==============================] - 25s 244ms/step - loss: 0.2156 - accuracy: 0.9076\n",
      "Epochs 78/101\n",
      "101/101 [==============================] - 25s 245ms/step - loss: 0.2181 - accuracy: 0.9067\n",
      "Epochs 79/101\n",
      "101/101 [==============================] - 24s 241ms/step - loss: 0.2176 - accuracy: 0.9067\n",
      "Epochs 80/101\n",
      "101/101 [==============================] - 25s 247ms/step - loss: 0.2138 - accuracy: 0.9049\n",
      "Epochs 81/101\n",
      "101/101 [==============================] - 25s 246ms/step - loss: 0.2182 - accuracy: 0.9035\n",
      "Epochs 82/101\n",
      "101/101 [==============================] - 27s 265ms/step - loss: 0.2125 - accuracy: 0.9076\n",
      "Epochs 83/101\n",
      "101/101 [==============================] - 28s 275ms/step - loss: 0.2094 - accuracy: 0.9049\n",
      "Epochs 84/101\n",
      "101/101 [==============================] - 25s 253ms/step - loss: 0.2167 - accuracy: 0.9063\n",
      "Epochs 85/101\n",
      "101/101 [==============================] - 26s 253ms/step - loss: 0.2262 - accuracy: 0.9035\n",
      "Epochs 86/101\n",
      "101/101 [==============================] - 25s 250ms/step - loss: 0.2422 - accuracy: 0.8982\n",
      "Epochs 87/101\n",
      "101/101 [==============================] - 26s 259ms/step - loss: 0.2572 - accuracy: 0.8978\n",
      "Epochs 88/101\n",
      "101/101 [==============================] - 26s 262ms/step - loss: 0.3122 - accuracy: 0.8789\n",
      "Epochs 89/101\n",
      "101/101 [==============================] - 27s 266ms/step - loss: 0.3153 - accuracy: 0.8781\n",
      "Epochs 90/101\n",
      "101/101 [==============================] - 26s 257ms/step - loss: 0.3230 - accuracy: 0.8722\n",
      "Epochs 91/101\n",
      "101/101 [==============================] - 27s 264ms/step - loss: 0.2756 - accuracy: 0.8911\n",
      "Epochs 92/101\n",
      "101/101 [==============================] - 27s 263ms/step - loss: 0.2375 - accuracy: 0.9013\n",
      "Epochs 93/101\n",
      "101/101 [==============================] - 26s 261ms/step - loss: 0.2128 - accuracy: 0.9072\n",
      "Epochs 94/101\n",
      "101/101 [==============================] - 29s 292ms/step - loss: 0.2071 - accuracy: 0.9080\n",
      "Epochs 95/101\n",
      "101/101 [==============================] - 26s 261ms/step - loss: 0.2024 - accuracy: 0.9088\n",
      "Epochs 96/101\n",
      "101/101 [==============================] - 26s 258ms/step - loss: 0.1957 - accuracy: 0.9094\n",
      "Epochs 97/101\n",
      "101/101 [==============================] - 26s 256ms/step - loss: 0.1994 - accuracy: 0.9092\n",
      "Epochs 98/101\n",
      "101/101 [==============================] - 27s 268ms/step - loss: 0.2001 - accuracy: 0.9098\n",
      "Epochs 99/101\n",
      "101/101 [==============================] - 28s 275ms/step - loss: 0.1985 - accuracy: 0.9078\n",
      "Epochs 100/101\n",
      "101/101 [==============================] - 26s 261ms/step - loss: 0.1974 - accuracy: 0.9086\n",
      "Epochs 101/101\n",
      "101/101 [==============================] - 26s 254ms/step - loss: 0.1981 - accuracy: 0.9092\n"
     ]
    }
   ],
   "source": [
    "model = define_model(vocab_size, max_length)\n",
    "epochs = 101\n",
    "batch_size = 64\n",
    "steps = len(train_descriptions) // batch_size\n",
    "# storing the epoch end loss value to plot later\n",
    "# check and make a directory models to save our models\n",
    "if os.path.exists(\"model\\\\models\"):\n",
    "    history = {'loss':[],'accuracy':[]}    \n",
    "    for i in range(epochs):\n",
    "        print(f'Epochs {i+1}/{epochs}')\n",
    "        generator = data_generator(train_descriptions, train_features, tokenizer, max_length)\n",
    "        loss_accuracy = model.fit(generator, epochs=1, steps_per_epoch= steps, verbose=1)\n",
    "        history['loss'].append(loss_accuracy.history['loss'][0])\n",
    "        history['accuracy'].append(loss_accuracy.history['accuracy'][0])\n",
    "        if i%10 == 0:\n",
    "            model.save(\"model\\\\models\\\\model\" + str(i) + \".h5\")"
   ]
  },
  {
   "cell_type": "markdown",
   "id": "95263243",
   "metadata": {},
   "source": [
    "# Plot Accuracy vs Epochs"
   ]
  },
  {
   "cell_type": "code",
   "execution_count": 66,
   "id": "b5348665",
   "metadata": {},
   "outputs": [
    {
     "data": {
      "image/png": "[encoded data removed]",
      "text/plain": [
       "<Figure size 432x288 with 1 Axes>"
      ]
     },
     "metadata": {
      "needs_background": "light"
     },
     "output_type": "display_data"
    }
   ],
   "source": [
    "plt.plot(history['accuracy'])\n",
    "plt.title('Train Model Accuracy')\n",
    "plt.ylabel('Accuracy')\n",
    "plt.xlabel('Epochs')\n",
    "plt.show()"
   ]
  },
  {
   "cell_type": "markdown",
   "id": "20f60a3e",
   "metadata": {},
   "source": [
    "# Plot Accuracy vs Loss"
   ]
  },
  {
   "cell_type": "code",
   "execution_count": 67,
   "id": "c3c12259",
   "metadata": {},
   "outputs": [
    {
     "data": {
      "image/png": "[encoded data removed]",
      "text/plain": [
       "<Figure size 432x288 with 1 Axes>"
      ]
     },
     "metadata": {
      "needs_background": "light"
     },
     "output_type": "display_data"
    }
   ],
   "source": [
    "plt.plot(history['loss'])\n",
    "plt.title('Train Model Loss')\n",
    "plt.ylabel('Loss')\n",
    "plt.xlabel('Epochs')\n",
    "plt.show()"
   ]
  },
  {
   "cell_type": "markdown",
   "id": "ba47a3d6",
   "metadata": {},
   "source": [
    "# Generate Captions for the Image"
   ]
  },
  {
   "cell_type": "code",
   "execution_count": 68,
   "id": "ed2669d2",
   "metadata": {},
   "outputs": [],
   "source": [
    "def word_for_id(integer, tokenizer):\n",
    "    for word, index in tokenizer.word_index.items():\n",
    "        if index == integer:\n",
    "            return word\n",
    "    return None\n",
    "def extract_features(filename, model):\n",
    "        try:\n",
    "            image = Image.open(filename)           \n",
    "        except:\n",
    "            print(\"ERROR: Couldn't open image! Make sure the image path and extension is correct\")\n",
    "        image = image.resize((299,299))\n",
    "        image = np.array(image)\n",
    "        # for images that has 4 channels, we convert them into 3 channels\n",
    "        if image.shape[2] == 4: \n",
    "            image = image[..., :3]\n",
    "        image = np.expand_dims(image, axis=0)\n",
    "        image = image/255\n",
    "        feature = model.predict(image)\n",
    "        return feature\n",
    "def generate_desc(model, tokenizer, photo, max_length):\n",
    "    in_text = 'start'\n",
    "    for i in range(max_length):\n",
    "        sequence = tokenizer.texts_to_sequences([in_text])[0]\n",
    "        sequence = pad_sequences([sequence], maxlen=max_length)\n",
    "        pred = model.predict([photo,sequence], verbose=0, batch_size = 64)\n",
    "        pred = np.argmax(pred)\n",
    "        word = word_for_id(pred, tokenizer)\n",
    "        if word is None:\n",
    "            break\n",
    "        in_text += ' ' + word\n",
    "        if word == 'end':\n",
    "            break\n",
    "    return in_text[6:-3]"
   ]
  },
  {
   "cell_type": "markdown",
   "id": "bc75898c",
   "metadata": {},
   "source": [
    "# Display Caption"
   ]
  },
  {
   "cell_type": "code",
   "execution_count": 71,
   "id": "f7d8a9df",
   "metadata": {},
   "outputs": [],
   "source": [
    "max_length = 31\n",
    "tokenizer = load(open(os.path.join(save_data,\"tokenizer.p\"),\"rb\"))\n",
    "model = load_model(\"model\\\\models\\\\model100.h5\")\n",
    "xception_model = Xception(include_top=False, pooling=\"avg\")"
   ]
  },
  {
   "cell_type": "code",
   "execution_count": 73,
   "id": "a437dbb7",
   "metadata": {},
   "outputs": [
    {
     "name": "stdout",
     "output_type": "stream",
     "text": [
      "\n",
      "\n",
      "aeroplane ready for the takeoff \n"
     ]
    },
    {
     "data": {
      "text/plain": [
       "<matplotlib.image.AxesImage at 0x22aad647a30>"
      ]
     },
     "execution_count": 73,
     "metadata": {},
     "output_type": "execute_result"
    },
    {
     "data": {
      "image/png": "[encoded data removed]",
      "text/plain": [
       "<Figure size 432x288 with 1 Axes>"
      ]
     },
     "metadata": {
      "needs_background": "light"
     },
     "output_type": "display_data"
    }
   ],
   "source": [
    "img_path = os.path.join(dataset_images,'Bibek2.jpg')\n",
    "#img_path = \"C:\\\\Users\\\\shlok\\\\Downloads\\\\9.jpg\"\n",
    "\n",
    "photo = extract_features(img_path, xception_model)\n",
    "img = Image.open(img_path)\n",
    "description = generate_desc(model, tokenizer, photo, max_length)\n",
    "print(\"\\n\")\n",
    "print(description)\n",
    "plt.imshow(img)"
   ]
  },
  {
   "cell_type": "markdown",
   "id": "16b585a5",
   "metadata": {},
   "source": [
    "# Calculate BLEU Score"
   ]
  },
  {
   "cell_type": "code",
   "execution_count": 74,
   "id": "d944b30a",
   "metadata": {},
   "outputs": [],
   "source": [
    "# from nltk.translate.bleu_score import corpus_bleu\n",
    "# # validate with test data\n",
    "# actual, predicted = list(), list()\n",
    "\n",
    "# for key in tqdm(test):\n",
    "#     # get actual caption\n",
    "#     captions = descriptions[key]\n",
    "#     # predict the caption for image\n",
    "#     y_pred = generate_desc(model, tokenizer, features[key], max_length) \n",
    "#     # split into words\n",
    "#     actual_captions = [caption.split() for caption in captions]\n",
    "#     y_pred = y_pred.split()\n",
    "#     # append to the list\n",
    "#     actual.append(actual_captions)\n",
    "#     predicted.append(y_pred)"
   ]
  },
  {
   "cell_type": "code",
   "execution_count": 75,
   "id": "401d0fa6",
   "metadata": {},
   "outputs": [
    {
     "name": "stdout",
     "output_type": "stream",
     "text": [
      "BLEU-1: 0.328211\n",
      "BLEU-2: 0.155498\n"
     ]
    }
   ],
   "source": [
    "# calcuate BLEU score\n",
    "print(\"BLEU-1: %f\" % corpus_bleu(actual, predicted, weights=(1.0, 0, 0, 0)))\n",
    "print(\"BLEU-2: %f\" % corpus_bleu(actual, predicted, weights=(0.5, 0.5, 0, 0)))"
   ]
  },
  {
   "cell_type": "code",
   "execution_count": null,
   "id": "68d3fee6",
   "metadata": {},
   "outputs": [],
   "source": []
  }
 ],
 "metadata": {
  "kernelspec": {
   "display_name": "Python 3 (ipykernel)",
   "language": "python",
   "name": "python3"
  },
  "language_info": {
   "codemirror_mode": {
    "name": "ipython",
    "version": 3
   },
   "file_extension": ".py",
   "mimetype": "text/x-python",
   "name": "python",
   "nbconvert_exporter": "python",
   "pygments_lexer": "ipython3",
   "version": "3.10.1"
  }
 },
 "nbformat": 4,
 "nbformat_minor": 5
}
